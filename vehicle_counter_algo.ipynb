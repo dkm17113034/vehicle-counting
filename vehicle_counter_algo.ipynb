{
 "cells": [
  {
   "cell_type": "code",
   "execution_count": 1,
   "metadata": {},
   "outputs": [],
   "source": [
    "#importing the modules/libraries\n",
    "import cv2        #for taking the video feed\n",
    "import numpy as np  #for mathematical operations\n",
    "from time import sleep   #it will insure that our loop can take only the defined frames per second "
   ]
  },
  {
   "cell_type": "code",
   "execution_count": 2,
   "metadata": {},
   "outputs": [],
   "source": [
    "min_width=80  #minimum width of rectangle across the Vehicle \n",
    "min_hight=80  #minimum hight of rectangle across the vehicle\n",
    "\n",
    "pixel_error=6  #Permitted pixel error for defining the center\n",
    "\n",
    "line_pos=550  #line position(depth) in the frame according to captured video\n",
    "fps= 60  #frames per second\n",
    "\n",
    "detect_center = []  #list that will contain the cordinates of center of rectangle\n",
    "cars= 0  #initializing the variable for counting"
   ]
  },
  {
   "cell_type": "code",
   "execution_count": 3,
   "metadata": {},
   "outputs": [],
   "source": [
    "def catch_center(x, y, w, h):\n",
    "    x1 = w //2  \n",
    "    y1 = h//2\n",
    "    cx = x + x1\n",
    "    cy = y + y1 \n",
    "    return cx,cy"
   ]
  },
  {
   "cell_type": "code",
   "execution_count": 5,
   "metadata": {},
   "outputs": [],
   "source": [
    "cap = cv2.VideoCapture(r'C:\\Users\\dell\\Documents\\traffic_counter\\video.mp4') #capturing the video\n",
    "b_sub= cv2.bgsegm.createBackgroundSubtractorMOG()  #creating the background subtractor"
   ]
  },
  {
   "cell_type": "code",
   "execution_count": 6,
   "metadata": {},
   "outputs": [
    {
     "name": "stdout",
     "output_type": "stream",
     "text": [
      "Cars detected so far: 1\n",
      "Cars detected so far: 2\n",
      "Cars detected so far: 3\n",
      "Cars detected so far: 4\n",
      "Cars detected so far: 5\n",
      "Cars detected so far: 6\n",
      "Cars detected so far: 7\n"
     ]
    }
   ],
   "source": [
    "while True:     #loop for taking continous frames\n",
    "    ret , frame1 = cap.read()  #reading the frames \n",
    "    time = float(1/fps)      \n",
    "    sleep(time)                #allowing only 60 frames per second \n",
    "    grey = cv2.cvtColor(frame1,cv2.COLOR_BGR2GRAY)     #converting BGR(blue,green,red) into black in white or gray frame\n",
    "    blur = cv2.GaussianBlur(grey,(3,3),5)              #applying blurr filter\n",
    "    img_sub = b_sub.apply(blur)                        #creating background subtracted image\n",
    "    #applying dilation filter\n",
    "    dilation =cv2.dilate(img_sub,np.ones((5,5)))       \n",
    "    kernel = cv2.getStructuringElement(cv2.MORPH_ELLIPSE, (5, 5))    \n",
    "    dilated = cv2.morphologyEx (dilation, cv2. MORPH_CLOSE , kernel)\n",
    "    dilated = cv2.morphologyEx (dilated, cv2. MORPH_OPEN , kernel)\n",
    "    \n",
    "    contour,h = cv2.findContours(dilated,cv2.RETR_TREE,cv2.CHAIN_APPROX_SIMPLE) #creating counters to detect the vehicles\n",
    "    cv2.line(frame1, (25, line_pos), (1200, line_pos), (255,127,0),3)  #drawing line at the depth of 550 on the frame\n",
    "    for(i,c) in enumerate(contour):                                    #loop for finding the cordinates of rectangle from contour\n",
    "        (x,y,w,h) = cv2.boundingRect(c)\n",
    "        if not ((w >= min_width) and (h >= min_hight)): #if contour is not valid the contiue the loop otherwise proceed\n",
    "            continue\n",
    "\n",
    "        cv2.rectangle(frame1,(x,y),(x+w,y+h),(0,255,0),2)        #drawing a valid rectangle on the frame\n",
    "        center = catch_center(x, y, w, h)                        #calculating the center of rectangle from above function\n",
    "        detect_center.append(center)                             #adding crdinates in the detect_center list\n",
    "        cv2.circle(frame1, center, 4, (0, 0,255), -1)            #marking center of rectangle    \n",
    "\n",
    "        for (x,y) in detect_center:                                     #loop for counting the cars\n",
    "            if y<(line_pos+pixel_error) and y>(line_pos-pixel_error):     #if center of rectangle lie between permissible upper and lower bound of line\n",
    "                cars+=1                                                  #then increase the no of cars detected\n",
    "                cv2.line(frame1, (25, line_pos), (1200, line_pos), (0,127,255), 3)  #once car is detected the again draw the same line for other cars\n",
    "                detect_center.remove((x,y))                                                 #once the center is counted the remove it from the list\n",
    "                print(\"Cars detected so far: \"+str(cars))                          #output\n",
    "       \n",
    "    cv2.putText(frame1, \"Vehicals: \"+str(cars), (450, 70), cv2.FONT_HERSHEY_SIMPLEX, 2, (0, 0, 255),5)       #to show output on video frames \n",
    "    cv2.imshow(\"Video Original\" , frame1)                                                                   #the original video frame\n",
    "    cv2.imshow(\"Detectar\",dilated)                                                          #processed video frame\n",
    "\n",
    "    if cv2.waitKey(1) == ord('e'):                                                        #press \"e\" to exit\n",
    "        break\n",
    "    \n",
    "cv2.destroyAllWindows()\n",
    "cap.release()                                                                   #to release the video"
   ]
  },
  {
   "cell_type": "code",
   "execution_count": null,
   "metadata": {},
   "outputs": [],
   "source": []
  }
 ],
 "metadata": {
  "kernelspec": {
   "display_name": "Python 3",
   "language": "python",
   "name": "python3"
  },
  "language_info": {
   "codemirror_mode": {
    "name": "ipython",
    "version": 3
   },
   "file_extension": ".py",
   "mimetype": "text/x-python",
   "name": "python",
   "nbconvert_exporter": "python",
   "pygments_lexer": "ipython3",
   "version": "3.7.4"
  }
 },
 "nbformat": 4,
 "nbformat_minor": 2
}
